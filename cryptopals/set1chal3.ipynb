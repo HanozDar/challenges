{
 "cells": [
  {
   "cell_type": "markdown",
   "id": "41f4cf6e",
   "metadata": {},
   "source": [
    "# Cryptopals Set 1 Challenge 3\n",
    "\n",
    "The input in hex\n",
    "```text\n",
    "1b37373331363f78151b7f2b783431333d78397828372d363c78373e783a393b3736\n",
    "```\n",
    "Objective: Find the common key with which it has been xor'd with\n"
   ]
  },
  {
   "cell_type": "code",
   "execution_count": 1,
   "id": "a358ceaa",
   "metadata": {},
   "outputs": [
    {
     "name": "stdout",
     "output_type": "stream",
     "text": [
      "bytearray(b'\\x1b77316?x\\x15\\x1b\\x7f+x413=x9x(7-6<x7>x:9;76')\n"
     ]
    }
   ],
   "source": [
    "prob_stmt_str = '1b37373331363f78151b7f2b783431333d78397828372d363c78373e783a393b3736'\n",
    "prob_stmt = bytearray.fromhex(prob_stmt_str)\n",
    "print(prob_stmt)"
   ]
  },
  {
   "cell_type": "code",
   "execution_count": 2,
   "id": "88625d24",
   "metadata": {},
   "outputs": [],
   "source": [
    "#a = b'\\xff'\n",
    "def check_result_text(txt):\n",
    "    if(txt > 0x20 and txt < 0x7e):\n",
    "        return 1\n",
    "    else:\n",
    "        return -1\n",
    "    \n",
    "#print(check_result_text(a))"
   ]
  },
  {
   "cell_type": "code",
   "execution_count": 3,
   "id": "a7ee3e3d",
   "metadata": {},
   "outputs": [],
   "source": [
    "def xor_inputs(a,b):\n",
    "    op_arr = bytearray()\n",
    "    assert len(a) == len(b)\n",
    "    for i in range(len(a)):\n",
    "        op_arr.append(a[i] ^ b[i])\n",
    "    return op_arr"
   ]
  },
  {
   "cell_type": "code",
   "execution_count": 4,
   "id": "184093e8",
   "metadata": {},
   "outputs": [],
   "source": [
    "possible_keys = []\n",
    "for i in range(256):\n",
    "    #key = i.to_bytes(1,'big')\n",
    "    for j in prob_stmt:\n",
    "        if(check_result_text(i ^ j) == 1):\n",
    "            possible_keys.append(i)\n",
    "        elif(check_result_text(i ^ j) == -1 and i in possible_keys):\n",
    "            possible_keys.remove(i)"
   ]
  },
  {
   "cell_type": "code",
   "execution_count": 5,
   "id": "9a653c06",
   "metadata": {},
   "outputs": [],
   "source": [
    "#print(possible_keys)\n",
    "temp_dict = {}\n",
    "possible_final_keys = []\n",
    "for i in possible_keys:\n",
    "    if not(i in temp_dict.keys()):\n",
    "        temp_dict[i] = possible_keys.count(i)\n",
    "#print(temp_dict)\n",
    "max_freq = max(temp_dict.values())\n",
    "for key,value in temp_dict.items():\n",
    "    if(value == max_freq):\n",
    "        possible_final_keys.append(key)"
   ]
  },
  {
   "cell_type": "code",
   "execution_count": 6,
   "id": "a68ac12c",
   "metadata": {},
   "outputs": [
    {
     "name": "stdout",
     "output_type": "stream",
     "text": [
      "bytearray(b'Kggcafo(EK/{(dacm(i(xg}fl(gn(jikgf')\n",
      "bytearray(b'Jffb`gn)DJ.z)e`bl)h)yf|gm)fo)khjfg')\n",
      "bytearray(b'Bnnjhof!LB&r!mhjd!`!qntoe!ng!c`bno')\n",
      "bytearray(b'Ammikle\"OA%q\"nkig\"c\"rmwlf\"md\"`caml')\n",
      "bytearray(b'@llhjmd#N@$p#ojhf#b#slvmg#le#ab`lm')\n",
      "bytearray(b'Gkkomjc$IG#w$hmoa$e$tkqj`$kb$fegkj')\n",
      "bytearray(b'Fjjnlkb%HF\"v%iln`%d%ujpka%jc%gdfjk')\n",
      "bytearray(b'Eiimoha&KE!u&jomc&g&vishb&i`&dgeih')\n"
     ]
    }
   ],
   "source": [
    "all_possible_ctext = []\n",
    "ctext = bytearray()\n",
    "for i in possible_final_keys:\n",
    "    for j in prob_stmt:\n",
    "        ctext.append(i^j)\n",
    "    all_possible_ctext.append(ctext)\n",
    "    ctext = bytearray()\n",
    "\n",
    "for i in all_possible_ctext:\n",
    "    print(i)"
   ]
  },
  {
   "cell_type": "code",
   "execution_count": null,
   "id": "a4122a13",
   "metadata": {},
   "outputs": [],
   "source": []
  },
  {
   "cell_type": "code",
   "execution_count": null,
   "id": "95cbab85",
   "metadata": {},
   "outputs": [],
   "source": []
  }
 ],
 "metadata": {
  "kernelspec": {
   "display_name": "Python 3 (ipykernel)",
   "language": "python",
   "name": "python3"
  },
  "language_info": {
   "codemirror_mode": {
    "name": "ipython",
    "version": 3
   },
   "file_extension": ".py",
   "mimetype": "text/x-python",
   "name": "python",
   "nbconvert_exporter": "python",
   "pygments_lexer": "ipython3",
   "version": "3.9.9"
  }
 },
 "nbformat": 4,
 "nbformat_minor": 5
}
