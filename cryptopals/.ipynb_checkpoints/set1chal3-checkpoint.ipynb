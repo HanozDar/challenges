{
 "cells": [
  {
   "cell_type": "markdown",
   "id": "41f4cf6e",
   "metadata": {},
   "source": [
    "# Cryptopals Set 1 Challenge 3\n",
    "\n",
    "The input in hex\n",
    "```text\n",
    "1b37373331363f78151b7f2b783431333d78397828372d363c78373e783a393b3736\n",
    "```\n",
    "Objective: Find the common key with which it has been xor'd with\n"
   ]
  },
  {
   "cell_type": "code",
   "execution_count": 15,
   "id": "a358ceaa",
   "metadata": {},
   "outputs": [
    {
     "name": "stdout",
     "output_type": "stream",
     "text": [
      "bytearray(b'\\x1b77316?x\\x15\\x1b\\x7f+x413=x9x(7-6<x7>x:9;76')\n"
     ]
    }
   ],
   "source": [
    "prob_stmt_str = '1b37373331363f78151b7f2b783431333d78397828372d363c78373e783a393b3736'\n",
    "prob_stmt = bytearray.fromhex(prob_stmt_str)\n",
    "print(prob_stmt)"
   ]
  },
  {
   "cell_type": "code",
   "execution_count": 16,
   "id": "88625d24",
   "metadata": {},
   "outputs": [],
   "source": [
    "#a = b'\\xff'\n",
    "def check_result_text(txt):\n",
    "    if(ord(txt) > 0x20 and ord(txt) < 0x7e):\n",
    "        return 1\n",
    "    else:\n",
    "        return -1\n",
    "    \n",
    "#print(check_result_text(a))"
   ]
  },
  {
   "cell_type": "code",
   "execution_count": 17,
   "id": "a7ee3e3d",
   "metadata": {},
   "outputs": [],
   "source": [
    "def xor_inputs(a,b):\n",
    "    op_arr = bytearray()\n",
    "    assert len(a) == len(b)\n",
    "    for i in range(len(a)):\n",
    "        op_arr.append(a[i] ^ b[i])\n",
    "    return op_arr"
   ]
  },
  {
   "cell_type": "code",
   "execution_count": 29,
   "id": "184093e8",
   "metadata": {},
   "outputs": [
    {
     "ename": "TypeError",
     "evalue": "unsupported operand type(s) for ^: 'int' and 'bytes'",
     "output_type": "error",
     "traceback": [
      "\u001b[0;31m---------------------------------------------------------------------------\u001b[0m",
      "\u001b[0;31mTypeError\u001b[0m                                 Traceback (most recent call last)",
      "\u001b[0;32m/tmp/ipykernel_16619/3706944532.py\u001b[0m in \u001b[0;36m<module>\u001b[0;34m\u001b[0m\n\u001b[1;32m      3\u001b[0m     \u001b[0mkey\u001b[0m \u001b[0;34m=\u001b[0m \u001b[0mi\u001b[0m\u001b[0;34m.\u001b[0m\u001b[0mto_bytes\u001b[0m\u001b[0;34m(\u001b[0m\u001b[0;36m1\u001b[0m\u001b[0;34m,\u001b[0m\u001b[0;34m'big'\u001b[0m\u001b[0;34m)\u001b[0m\u001b[0;34m\u001b[0m\u001b[0;34m\u001b[0m\u001b[0m\n\u001b[1;32m      4\u001b[0m     \u001b[0;32mfor\u001b[0m \u001b[0mj\u001b[0m \u001b[0;32min\u001b[0m \u001b[0mprob_stmt\u001b[0m\u001b[0;34m:\u001b[0m\u001b[0;34m\u001b[0m\u001b[0;34m\u001b[0m\u001b[0m\n\u001b[0;32m----> 5\u001b[0;31m         \u001b[0;32mif\u001b[0m\u001b[0;34m(\u001b[0m\u001b[0mcheck_result_text\u001b[0m\u001b[0;34m(\u001b[0m\u001b[0mi\u001b[0m \u001b[0;34m^\u001b[0m \u001b[0mj\u001b[0m\u001b[0;34m.\u001b[0m\u001b[0mto_bytes\u001b[0m\u001b[0;34m(\u001b[0m\u001b[0;36m1\u001b[0m\u001b[0;34m,\u001b[0m\u001b[0;34m'big'\u001b[0m\u001b[0;34m)\u001b[0m\u001b[0;34m)\u001b[0m \u001b[0;34m==\u001b[0m \u001b[0;36m1\u001b[0m\u001b[0;34m)\u001b[0m\u001b[0;34m:\u001b[0m\u001b[0;34m\u001b[0m\u001b[0;34m\u001b[0m\u001b[0m\n\u001b[0m\u001b[1;32m      6\u001b[0m             \u001b[0mpossible_key\u001b[0m\u001b[0;34m.\u001b[0m\u001b[0mappend\u001b[0m\u001b[0;34m(\u001b[0m\u001b[0mi\u001b[0m\u001b[0;34m)\u001b[0m\u001b[0;34m\u001b[0m\u001b[0;34m\u001b[0m\u001b[0m\n\u001b[1;32m      7\u001b[0m         \u001b[0;32melif\u001b[0m\u001b[0;34m(\u001b[0m\u001b[0mcheck_result_text\u001b[0m\u001b[0;34m(\u001b[0m\u001b[0mi\u001b[0m \u001b[0;34m^\u001b[0m \u001b[0mj\u001b[0m\u001b[0;34m.\u001b[0m\u001b[0mto_bytes\u001b[0m\u001b[0;34m(\u001b[0m\u001b[0;36m1\u001b[0m\u001b[0;34m,\u001b[0m\u001b[0;34m'big'\u001b[0m\u001b[0;34m)\u001b[0m\u001b[0;34m)\u001b[0m \u001b[0;34m==\u001b[0m \u001b[0;34m-\u001b[0m\u001b[0;36m1\u001b[0m \u001b[0;32mand\u001b[0m \u001b[0mi\u001b[0m \u001b[0;32min\u001b[0m \u001b[0mpossible_keys\u001b[0m\u001b[0;34m)\u001b[0m\u001b[0;34m:\u001b[0m\u001b[0;34m\u001b[0m\u001b[0;34m\u001b[0m\u001b[0m\n",
      "\u001b[0;31mTypeError\u001b[0m: unsupported operand type(s) for ^: 'int' and 'bytes'"
     ]
    }
   ],
   "source": [
    "possible_key = []\n",
    "for i in range(256):\n",
    "    key = i.to_bytes(1,'big')\n",
    "    for j in prob_stmt:\n",
    "        if(check_result_text(i ^ j.to_bytes(1,'big')) == 1):\n",
    "            possible_key.append(i)\n",
    "        elif(check_result_text(i ^ j.to_bytes(1,'big')) == -1 and i in possible_keys):\n",
    "            possible_key.append(i)"
   ]
  },
  {
   "cell_type": "code",
   "execution_count": null,
   "id": "9a653c06",
   "metadata": {},
   "outputs": [],
   "source": []
  },
  {
   "cell_type": "code",
   "execution_count": null,
   "id": "a68ac12c",
   "metadata": {},
   "outputs": [],
   "source": []
  }
 ],
 "metadata": {
  "kernelspec": {
   "display_name": "Python 3 (ipykernel)",
   "language": "python",
   "name": "python3"
  },
  "language_info": {
   "codemirror_mode": {
    "name": "ipython",
    "version": 3
   },
   "file_extension": ".py",
   "mimetype": "text/x-python",
   "name": "python",
   "nbconvert_exporter": "python",
   "pygments_lexer": "ipython3",
   "version": "3.9.9"
  }
 },
 "nbformat": 4,
 "nbformat_minor": 5
}
