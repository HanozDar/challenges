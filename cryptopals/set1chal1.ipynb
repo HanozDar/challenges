{
 "cells": [
  {
   "cell_type": "markdown",
   "id": "cb7439eb",
   "metadata": {},
   "source": [
    "# Cryptopals Set 1 Challenge 1\n",
    "\n",
    "The input in hex\n",
    "```text\n",
    "49276d206b696c6c696e6720796f757220627261696e206c696b65206120706f69736f6e6f7573206d757368726f6f6d\n",
    "```\n",
    "Objective: Convert to base64\n",
    "\n",
    "The output\n",
    "```text\n",
    "SSdtIGtpbGxpbmcgeW91ciBicmFpbiBsaWtlIGEgcG9pc29ub3VzIG11c2hyb29t\n",
    "```"
   ]
  },
  {
   "cell_type": "code",
   "execution_count": 6,
   "id": "f27d5300",
   "metadata": {},
   "outputs": [],
   "source": [
    "import base64"
   ]
  },
  {
   "cell_type": "code",
   "execution_count": 7,
   "id": "1db5c1dc",
   "metadata": {},
   "outputs": [],
   "source": [
    "str_prob_stmt = \"49276d206b696c6c696e6720796f757220627261696e206c696b65206120706f69736f6e6f7573206d757368726f6f6d\""
   ]
  },
  {
   "cell_type": "markdown",
   "id": "95007197",
   "metadata": {},
   "source": [
    "This is in string, and we needd to convert it to a hex input from which we can convert to base64\n",
    "So we need to convert it to hex"
   ]
  },
  {
   "cell_type": "code",
   "execution_count": 9,
   "id": "5fabf995",
   "metadata": {},
   "outputs": [
    {
     "name": "stdout",
     "output_type": "stream",
     "text": [
      "bytearray(b\"I\\'m killing your brain like a poisonous mushroom\")\n"
     ]
    }
   ],
   "source": [
    "prob_stmt = bytearray.fromhex(str_prob_stmt)\n",
    "print(prob_stmt)"
   ]
  },
  {
   "cell_type": "markdown",
   "id": "8ae23066",
   "metadata": {},
   "source": [
    "Now we need to convert to base64"
   ]
  },
  {
   "cell_type": "code",
   "execution_count": 14,
   "id": "65f973d0",
   "metadata": {},
   "outputs": [
    {
     "name": "stdout",
     "output_type": "stream",
     "text": [
      "The answers have matched and the string has been base64 encoded\n"
     ]
    }
   ],
   "source": [
    "objective = b'SSdtIGtpbGxpbmcgeW91ciBicmFpbiBsaWtlIGEgcG9pc29ub3VzIG11c2hyb29t'\n",
    "answer = base64.b64encode(prob_stmt)\n",
    "assert answer == objective\n",
    "print(\"The answers have matched and the string has been base64 encoded\")"
   ]
  }
 ],
 "metadata": {
  "kernelspec": {
   "display_name": "Python 3 (ipykernel)",
   "language": "python",
   "name": "python3"
  },
  "language_info": {
   "codemirror_mode": {
    "name": "ipython",
    "version": 3
   },
   "file_extension": ".py",
   "mimetype": "text/x-python",
   "name": "python",
   "nbconvert_exporter": "python",
   "pygments_lexer": "ipython3",
   "version": "3.9.9"
  }
 },
 "nbformat": 4,
 "nbformat_minor": 5
}
