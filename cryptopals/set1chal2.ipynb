{
 "cells": [
  {
   "cell_type": "markdown",
   "id": "36996f00",
   "metadata": {},
   "source": [
    "# Cryptopals Set 1 Challenge 2\n",
    "\n",
    "The input in hex\n",
    "```text\n",
    "1c0111001f010100061a024b53535009181c\n",
    "```\n",
    "Objective: XOR against specified Key\n",
    "\n",
    "The key\n",
    "```text\n",
    "686974207468652062756c6c277320657965\n",
    "```\n",
    "\n",
    "The output\n",
    "```text\n",
    "746865206b696420646f6e277420706c6179\n",
    "```\n"
   ]
  },
  {
   "cell_type": "code",
   "execution_count": 1,
   "id": "33d44a8e",
   "metadata": {},
   "outputs": [
    {
     "name": "stdout",
     "output_type": "stream",
     "text": [
      "bytearray(b'\\x1c\\x01\\x11\\x00\\x1f\\x01\\x01\\x00\\x06\\x1a\\x02KSSP\\t\\x18\\x1c')\n"
     ]
    }
   ],
   "source": [
    "prob_stmt_str = '1c0111001f010100061a024b53535009181c'\n",
    "prob_stmt = bytearray.fromhex(prob_stmt_str)\n",
    "print(prob_stmt)"
   ]
  },
  {
   "cell_type": "code",
   "execution_count": 2,
   "id": "aff2ec5f",
   "metadata": {},
   "outputs": [
    {
     "name": "stdout",
     "output_type": "stream",
     "text": [
      "bytearray(b\"hit the bull\\'s eye\")\n"
     ]
    }
   ],
   "source": [
    "key_str = '686974207468652062756c6c277320657965'\n",
    "key = bytearray.fromhex(key_str)\n",
    "print(key)"
   ]
  },
  {
   "cell_type": "code",
   "execution_count": 3,
   "id": "9fe8e43f",
   "metadata": {},
   "outputs": [],
   "source": [
    "#a = bytearray(b'\\x01')\n",
    "#b = bytearray(b'\\x02')\n",
    "\n",
    "def xor_inputs(a,b):\n",
    "    op_arr = bytearray()\n",
    "    assert len(a) == len(b)\n",
    "    for i in range(len(a)):\n",
    "        op_arr.append(a[i] ^ b[i])\n",
    "    return op_arr\n",
    "#print(xor_inputs(a,b))"
   ]
  },
  {
   "cell_type": "code",
   "execution_count": 4,
   "id": "3cc3da2d",
   "metadata": {
    "scrolled": true
   },
   "outputs": [
    {
     "name": "stdout",
     "output_type": "stream",
     "text": [
      "bytearray(b\"the kid don\\'t play\")\n"
     ]
    }
   ],
   "source": [
    "final_ans_str = '746865206b696420646f6e277420706c6179'\n",
    "final_ans = bytearray.fromhex(final_ans_str)\n",
    "print(final_ans)"
   ]
  },
  {
   "cell_type": "code",
   "execution_count": 5,
   "id": "a55a578c",
   "metadata": {},
   "outputs": [
    {
     "name": "stdout",
     "output_type": "stream",
     "text": [
      "Success!\n"
     ]
    }
   ],
   "source": [
    "assert xor_inputs(prob_stmt,key) == final_ans\n",
    "print(\"Success!\")"
   ]
  },
  {
   "cell_type": "code",
   "execution_count": null,
   "id": "ea111e38",
   "metadata": {},
   "outputs": [],
   "source": []
  }
 ],
 "metadata": {
  "kernelspec": {
   "display_name": "Python 3 (ipykernel)",
   "language": "python",
   "name": "python3"
  },
  "language_info": {
   "codemirror_mode": {
    "name": "ipython",
    "version": 3
   },
   "file_extension": ".py",
   "mimetype": "text/x-python",
   "name": "python",
   "nbconvert_exporter": "python",
   "pygments_lexer": "ipython3",
   "version": "3.9.9"
  }
 },
 "nbformat": 4,
 "nbformat_minor": 5
}
